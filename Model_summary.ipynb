{
 "cells": [
  {
   "cell_type": "code",
   "execution_count": 86,
   "metadata": {},
   "outputs": [],
   "source": [
    "import pandas as pd\n",
    "import numpy as np\n",
    "import matplotlib.pyplot as plt\n",
    "import seaborn as sns"
   ]
  },
  {
   "cell_type": "code",
   "execution_count": 87,
   "metadata": {},
   "outputs": [],
   "source": [
    "# Load the dataset\n",
    "data_url = \"data/CONSUMO-2023-05.csv\"\n",
    "consumo2023 = pd.read_csv(data_url)\n",
    "\n",
    "data_url = \"data/IMPORTACION-VOLUMEN-2023-05.csv\"\n",
    "importacion2023 = pd.read_csv(data_url)\n",
    "\n",
    "data_url = \"data/dieselpormes.csv\"\n",
    "dieselPorMes = pd.read_csv(data_url)\n",
    "\n",
    "data_url = \"data/gasregularpormes.csv\"\n",
    "regularPorMes = pd.read_csv(data_url)\n",
    "\n",
    "data_url = \"data/gassuperpormes.csv\"\n",
    "superPorMes = pd.read_csv(data_url)\n",
    "\n",
    "data_url = \"data/superconaditivo.csv\"\n",
    "superConAditivo = pd.read_csv(data_url)"
   ]
  },
  {
   "cell_type": "code",
   "execution_count": 88,
   "metadata": {},
   "outputs": [
    {
     "name": "stdout",
     "output_type": "stream",
     "text": [
      "Dataset Summary:\n",
      "<class 'pandas.core.frame.DataFrame'>\n",
      "RangeIndex: 281 entries, 0 to 280\n",
      "Data columns (total 56 columns):\n",
      " #   Column                    Non-Null Count  Dtype  \n",
      "---  ------                    --------------  -----  \n",
      " 0   Fecha                     281 non-null    object \n",
      " 1   Aceites lubricantes       281 non-null    object \n",
      " 2   Asfalto                   281 non-null    object \n",
      " 3   Bunker                    281 non-null    object \n",
      " 4   Ceras                     280 non-null    float64\n",
      " 5   Combustible turbo jet     281 non-null    object \n",
      " 6   Diesel bajo azufre        281 non-null    object \n",
      " 7   Diesel ultra bajo azufre  281 non-null    object \n",
      " 8   Gas licuado de petróleo   281 non-null    object \n",
      " 9   Gasolina de aviación      281 non-null    object \n",
      " 10  Gasolina regular          281 non-null    object \n",
      " 11  Gasolina superior         281 non-null    object \n",
      " 12  Grasas lubricantes        281 non-null    object \n",
      " 13  Kerosina                  281 non-null    object \n",
      " 14  Mezclas\n",
      "oleosas          281 non-null    object \n",
      " 15  Naftas                    281 non-null    float64\n",
      " 16  PetCoke                   281 non-null    object \n",
      " 17  Petróleo crudo            281 non-null    object \n",
      " 18  Solventes                 281 non-null    object \n",
      " 19  Butano                    281 non-null    float64\n",
      " 20  Diesel alto azufre        281 non-null    object \n",
      " 21  Orimulsión                281 non-null    object \n",
      " 22  Total                     281 non-null    object \n",
      " 23  Unnamed: 23               0 non-null      float64\n",
      " 24  Unnamed: 24               0 non-null      float64\n",
      " 25  Unnamed: 25               0 non-null      float64\n",
      " 26  Unnamed: 26               0 non-null      float64\n",
      " 27  Unnamed: 27               0 non-null      float64\n",
      " 28  Unnamed: 28               0 non-null      float64\n",
      " 29  Unnamed: 29               0 non-null      float64\n",
      " 30  Unnamed: 30               0 non-null      float64\n",
      " 31  Unnamed: 31               0 non-null      float64\n",
      " 32  Unnamed: 32               0 non-null      float64\n",
      " 33  Unnamed: 33               0 non-null      float64\n",
      " 34  Unnamed: 34               0 non-null      float64\n",
      " 35  Unnamed: 35               0 non-null      float64\n",
      " 36  Unnamed: 36               0 non-null      float64\n",
      " 37  Unnamed: 37               0 non-null      float64\n",
      " 38  Unnamed: 38               0 non-null      float64\n",
      " 39  Unnamed: 39               0 non-null      float64\n",
      " 40  Unnamed: 40               0 non-null      float64\n",
      " 41  Unnamed: 41               0 non-null      float64\n",
      " 42  Unnamed: 42               0 non-null      float64\n",
      " 43  Unnamed: 43               0 non-null      float64\n",
      " 44  Unnamed: 44               0 non-null      float64\n",
      " 45  Unnamed: 45               0 non-null      float64\n",
      " 46  Unnamed: 46               0 non-null      float64\n",
      " 47  Unnamed: 47               0 non-null      float64\n",
      " 48  Unnamed: 48               0 non-null      float64\n",
      " 49  Unnamed: 49               0 non-null      float64\n",
      " 50  Unnamed: 50               0 non-null      float64\n",
      " 51  Unnamed: 51               0 non-null      float64\n",
      " 52  Unnamed: 52               0 non-null      float64\n",
      " 53  Unnamed: 53               0 non-null      float64\n",
      " 54  Unnamed: 54               0 non-null      float64\n",
      " 55  Unnamed: 55               0 non-null      float64\n",
      "dtypes: float64(36), object(20)\n",
      "memory usage: 123.1+ KB\n",
      "None\n"
     ]
    }
   ],
   "source": [
    "# Display basic information about the dataset\n",
    "print(\"Dataset Summary:\")\n",
    "print(consumo2023.info())"
   ]
  },
  {
   "cell_type": "code",
   "execution_count": 89,
   "metadata": {},
   "outputs": [
    {
     "name": "stdout",
     "output_type": "stream",
     "text": [
      "<class 'pandas.core.frame.DataFrame'>\n",
      "RangeIndex: 271 entries, 0 to 270\n",
      "Data columns (total 71 columns):\n",
      " #   Column                    Non-Null Count  Dtype  \n",
      "---  ------                    --------------  -----  \n",
      " 0   Fecha                     270 non-null    object \n",
      " 1   Aceites lubricantes       269 non-null    object \n",
      " 2   Asfalto                   269 non-null    object \n",
      " 3   Bunker                    269 non-null    object \n",
      " 4   Ceras                     268 non-null    float64\n",
      " 5   Combustible turbo jet     269 non-null    object \n",
      " 6   Diesel bajo azufre        269 non-null    object \n",
      " 7   Diesel ultra bajo azufre  269 non-null    object \n",
      " 8   Gas licuado de petróleo   269 non-null    object \n",
      " 9   Gasolina de aviación      269 non-null    object \n",
      " 10  Gasolina regular          269 non-null    object \n",
      " 11  Gasolina superior         269 non-null    object \n",
      " 12  Grasas lubricantes        269 non-null    object \n",
      " 13  Kerosina                  269 non-null    object \n",
      " 14  Mezclas oleosas           269 non-null    object \n",
      " 15  Naftas                    269 non-null    float64\n",
      " 16  Petcoke                   269 non-null    object \n",
      " 17  Petróleo crudo            269 non-null    object \n",
      " 18  Solventes                 269 non-null    object \n",
      " 19  Butano                    269 non-null    float64\n",
      " 20  Diesel alto azufre        269 non-null    object \n",
      " 21  MTBE                      269 non-null    object \n",
      " 22  Orimulsión                269 non-null    object \n",
      " 23  Petróleo reconstituido    269 non-null    object \n",
      " 24  Total importación         269 non-null    object \n",
      " 25  Unnamed: 25               0 non-null      float64\n",
      " 26  Unnamed: 26               0 non-null      float64\n",
      " 27  Unnamed: 27               0 non-null      float64\n",
      " 28  Unnamed: 28               0 non-null      float64\n",
      " 29  Unnamed: 29               0 non-null      float64\n",
      " 30  Unnamed: 30               0 non-null      float64\n",
      " 31  Unnamed: 31               0 non-null      float64\n",
      " 32  Unnamed: 32               0 non-null      float64\n",
      " 33  Unnamed: 33               0 non-null      float64\n",
      " 34  Unnamed: 34               0 non-null      float64\n",
      " 35  Unnamed: 35               0 non-null      float64\n",
      " 36  Unnamed: 36               0 non-null      float64\n",
      " 37  Unnamed: 37               0 non-null      float64\n",
      " 38  Unnamed: 38               0 non-null      float64\n",
      " 39  Unnamed: 39               0 non-null      float64\n",
      " 40  Unnamed: 40               0 non-null      float64\n",
      " 41  Unnamed: 41               0 non-null      float64\n",
      " 42  Unnamed: 42               0 non-null      float64\n",
      " 43  Unnamed: 43               0 non-null      float64\n",
      " 44  Unnamed: 44               0 non-null      float64\n",
      " 45  Unnamed: 45               0 non-null      float64\n",
      " 46  Unnamed: 46               0 non-null      float64\n",
      " 47  Unnamed: 47               0 non-null      float64\n",
      " 48  Unnamed: 48               0 non-null      float64\n",
      " 49  Unnamed: 49               0 non-null      float64\n",
      " 50  Unnamed: 50               0 non-null      float64\n",
      " 51  Unnamed: 51               0 non-null      float64\n",
      " 52  Unnamed: 52               0 non-null      float64\n",
      " 53  Unnamed: 53               0 non-null      float64\n",
      " 54  Unnamed: 54               0 non-null      float64\n",
      " 55  Unnamed: 55               0 non-null      float64\n",
      " 56  Unnamed: 56               0 non-null      float64\n",
      " 57  Unnamed: 57               0 non-null      float64\n",
      " 58  Unnamed: 58               0 non-null      float64\n",
      " 59  Unnamed: 59               0 non-null      float64\n",
      " 60  Unnamed: 60               0 non-null      float64\n",
      " 61  Unnamed: 61               0 non-null      float64\n",
      " 62  Unnamed: 62               0 non-null      float64\n",
      " 63  Unnamed: 63               0 non-null      float64\n",
      " 64  Unnamed: 64               0 non-null      float64\n",
      " 65  Unnamed: 65               0 non-null      float64\n",
      " 66  Unnamed: 66               0 non-null      float64\n",
      " 67  Unnamed: 67               0 non-null      float64\n",
      " 68  Unnamed: 68               0 non-null      float64\n",
      " 69  Unnamed: 69               0 non-null      float64\n",
      " 70  Unnamed: 70               0 non-null      float64\n",
      "dtypes: float64(49), object(22)\n",
      "memory usage: 150.4+ KB\n",
      "None\n"
     ]
    }
   ],
   "source": [
    "print(importacion2023.info())"
   ]
  },
  {
   "cell_type": "code",
   "execution_count": 90,
   "metadata": {},
   "outputs": [
    {
     "name": "stdout",
     "output_type": "stream",
     "text": [
      "<class 'pandas.core.frame.DataFrame'>\n",
      "RangeIndex: 13 entries, 0 to 12\n",
      "Data columns (total 25 columns):\n",
      " #   Column      Non-Null Count  Dtype  \n",
      "---  ------      --------------  -----  \n",
      " 0   MES/AÑO     13 non-null     object \n",
      " 1   Unnamed: 1  0 non-null      float64\n",
      " 2   2001        12 non-null     float64\n",
      " 3   2002        12 non-null     float64\n",
      " 4   2003        12 non-null     float64\n",
      " 5   2004        13 non-null     float64\n",
      " 6   2005        13 non-null     float64\n",
      " 7   2006        13 non-null     float64\n",
      " 8   2007        13 non-null     float64\n",
      " 9   2008        13 non-null     float64\n",
      " 10  2009        13 non-null     float64\n",
      " 11  2010        13 non-null     float64\n",
      " 12  2011        13 non-null     float64\n",
      " 13  2012        13 non-null     float64\n",
      " 14  2013        13 non-null     float64\n",
      " 15  2014        13 non-null     float64\n",
      " 16  2015        13 non-null     float64\n",
      " 17  2016        13 non-null     float64\n",
      " 18  2017        13 non-null     float64\n",
      " 19  2018        13 non-null     float64\n",
      " 20  2019        13 non-null     float64\n",
      " 21  2020        13 non-null     float64\n",
      " 22  2021        13 non-null     float64\n",
      " 23  2022        13 non-null     float64\n",
      " 24  2023        6 non-null      float64\n",
      "dtypes: float64(24), object(1)\n",
      "memory usage: 2.7+ KB\n",
      "None\n"
     ]
    }
   ],
   "source": [
    "print(dieselPorMes.info())"
   ]
  },
  {
   "cell_type": "code",
   "execution_count": 91,
   "metadata": {},
   "outputs": [
    {
     "name": "stdout",
     "output_type": "stream",
     "text": [
      "<class 'pandas.core.frame.DataFrame'>\n",
      "RangeIndex: 13 entries, 0 to 12\n",
      "Data columns (total 25 columns):\n",
      " #   Column      Non-Null Count  Dtype  \n",
      "---  ------      --------------  -----  \n",
      " 0   MES/AÑO     13 non-null     object \n",
      " 1   Unnamed: 1  2 non-null      float64\n",
      " 2   2001        10 non-null     float64\n",
      " 3   2002        12 non-null     float64\n",
      " 4   2003        12 non-null     float64\n",
      " 5   2004        13 non-null     float64\n",
      " 6   2005        13 non-null     float64\n",
      " 7   2006        13 non-null     float64\n",
      " 8   2007        13 non-null     float64\n",
      " 9   2008        13 non-null     float64\n",
      " 10  2009        13 non-null     float64\n",
      " 11  2010        13 non-null     float64\n",
      " 12  2011        13 non-null     float64\n",
      " 13  2012        13 non-null     float64\n",
      " 14  2013        13 non-null     float64\n",
      " 15  2014        13 non-null     float64\n",
      " 16  2015        13 non-null     float64\n",
      " 17  2016        13 non-null     float64\n",
      " 18  2017        13 non-null     float64\n",
      " 19  2018        13 non-null     float64\n",
      " 20  2019        13 non-null     float64\n",
      " 21  2020        13 non-null     float64\n",
      " 22  2021        13 non-null     float64\n",
      " 23  2022        13 non-null     float64\n",
      " 24  2023        6 non-null      float64\n",
      "dtypes: float64(24), object(1)\n",
      "memory usage: 2.7+ KB\n",
      "None\n"
     ]
    }
   ],
   "source": [
    "print(regularPorMes.info())"
   ]
  },
  {
   "cell_type": "code",
   "execution_count": 92,
   "metadata": {},
   "outputs": [
    {
     "name": "stdout",
     "output_type": "stream",
     "text": [
      "<class 'pandas.core.frame.DataFrame'>\n",
      "RangeIndex: 13 entries, 0 to 12\n",
      "Data columns (total 28 columns):\n",
      " #   Column       Non-Null Count  Dtype  \n",
      "---  ------       --------------  -----  \n",
      " 0   MES/AÑO      13 non-null     object \n",
      " 1   Unnamed: 1   0 non-null      float64\n",
      " 2   2001         13 non-null     float64\n",
      " 3   2002         13 non-null     float64\n",
      " 4   2003         13 non-null     float64\n",
      " 5   2004         13 non-null     float64\n",
      " 6   Unnamed: 6   0 non-null      float64\n",
      " 7   2005         13 non-null     float64\n",
      " 8   2006         13 non-null     float64\n",
      " 9   2007         13 non-null     float64\n",
      " 10  2008         13 non-null     float64\n",
      " 11  2009         13 non-null     float64\n",
      " 12  2010         13 non-null     float64\n",
      " 13  2011         13 non-null     float64\n",
      " 14  2012         13 non-null     float64\n",
      " 15  2013         13 non-null     float64\n",
      " 16  2014         13 non-null     float64\n",
      " 17  2015         13 non-null     float64\n",
      " 18  2016         13 non-null     float64\n",
      " 19  2017         13 non-null     float64\n",
      " 20  2018         13 non-null     float64\n",
      " 21  2019         13 non-null     float64\n",
      " 22  2020         13 non-null     float64\n",
      " 23  2021         13 non-null     float64\n",
      " 24  2022         13 non-null     float64\n",
      " 25  2023         6 non-null      float64\n",
      " 26  Unnamed: 26  0 non-null      float64\n",
      " 27  Unnamed: 27  0 non-null      float64\n",
      "dtypes: float64(27), object(1)\n",
      "memory usage: 3.0+ KB\n",
      "None\n"
     ]
    }
   ],
   "source": [
    "print(superPorMes.info())"
   ]
  },
  {
   "cell_type": "code",
   "execution_count": 93,
   "metadata": {},
   "outputs": [
    {
     "name": "stdout",
     "output_type": "stream",
     "text": [
      "<class 'pandas.core.frame.DataFrame'>\n",
      "RangeIndex: 13 entries, 0 to 12\n",
      "Data columns (total 28 columns):\n",
      " #   Column       Non-Null Count  Dtype  \n",
      "---  ------       --------------  -----  \n",
      " 0   MES/AÑO      13 non-null     object \n",
      " 1   Unnamed: 1   2 non-null      float64\n",
      " 2   2001         11 non-null     float64\n",
      " 3   2002         13 non-null     float64\n",
      " 4   2003         13 non-null     float64\n",
      " 5   2004         13 non-null     float64\n",
      " 6   Unnamed: 6   0 non-null      float64\n",
      " 7   2005         13 non-null     float64\n",
      " 8   2006         13 non-null     float64\n",
      " 9   2007         13 non-null     float64\n",
      " 10  2008         13 non-null     float64\n",
      " 11  2009         13 non-null     float64\n",
      " 12  2010         13 non-null     float64\n",
      " 13  2011         13 non-null     float64\n",
      " 14  2012         13 non-null     float64\n",
      " 15  2013         13 non-null     float64\n",
      " 16  2014         13 non-null     float64\n",
      " 17  2015         13 non-null     float64\n",
      " 18  2016         13 non-null     float64\n",
      " 19  2017         13 non-null     float64\n",
      " 20  2018         13 non-null     float64\n",
      " 21  2019         13 non-null     float64\n",
      " 22  2020         13 non-null     float64\n",
      " 23  2021         13 non-null     float64\n",
      " 24  2022         13 non-null     float64\n",
      " 25  2023         6 non-null      float64\n",
      " 26  Unnamed: 26  0 non-null      float64\n",
      " 27  Unnamed: 27  0 non-null      float64\n",
      "dtypes: float64(27), object(1)\n",
      "memory usage: 3.0+ KB\n",
      "None\n"
     ]
    }
   ],
   "source": [
    "print(superConAditivo.info())"
   ]
  },
  {
   "cell_type": "code",
   "execution_count": 94,
   "metadata": {},
   "outputs": [
    {
     "name": "stdout",
     "output_type": "stream",
     "text": [
      "\n",
      "First 5 rows of the dataset:\n",
      "      Fecha Aceites lubricantes    Asfalto      Bunker  Ceras  \\\n",
      "0  Jan/2000                0.00  48,446.00  296,766.99    0.0   \n",
      "1  Feb/2000                0.00  50,597.00  328,116.44    0.0   \n",
      "2  Mar/2000                0.00  27,593.00  368,589.63    0.0   \n",
      "3  Apr/2000                0.00  53,794.00  396,300.47    0.0   \n",
      "4  May/2000                0.00  60,137.00  449,368.92    0.0   \n",
      "\n",
      "  Combustible turbo jet Diesel bajo azufre Diesel ultra bajo azufre  \\\n",
      "0                  0.00               0.00                     0.00   \n",
      "1                  0.00               0.00                     0.00   \n",
      "2                  0.00               0.00                     0.00   \n",
      "3                  0.00               0.00                     0.00   \n",
      "4                  0.00               0.00                     0.00   \n",
      "\n",
      "  Gas licuado de petróleo Gasolina de aviación  ... Unnamed: 46 Unnamed: 47  \\\n",
      "0              194,410.48             1,426.00  ...         NaN         NaN   \n",
      "1              174,710.55             1,458.00  ...         NaN         NaN   \n",
      "2              189,234.07             1,503.00  ...         NaN         NaN   \n",
      "3              174,330.61             1,561.00  ...         NaN         NaN   \n",
      "4              191,745.15             1,642.00  ...         NaN         NaN   \n",
      "\n",
      "  Unnamed: 48 Unnamed: 49 Unnamed: 50  Unnamed: 51 Unnamed: 52 Unnamed: 53  \\\n",
      "0         NaN         NaN         NaN          NaN         NaN         NaN   \n",
      "1         NaN         NaN         NaN          NaN         NaN         NaN   \n",
      "2         NaN         NaN         NaN          NaN         NaN         NaN   \n",
      "3         NaN         NaN         NaN          NaN         NaN         NaN   \n",
      "4         NaN         NaN         NaN          NaN         NaN         NaN   \n",
      "\n",
      "  Unnamed: 54  Unnamed: 55  \n",
      "0         NaN          NaN  \n",
      "1         NaN          NaN  \n",
      "2         NaN          NaN  \n",
      "3         NaN          NaN  \n",
      "4         NaN          NaN  \n",
      "\n",
      "[5 rows x 56 columns]\n"
     ]
    }
   ],
   "source": [
    "# Display the first few rows of the dataset\n",
    "print(\"\\nFirst 5 rows of the dataset:\")\n",
    "print(consumo2023.head())"
   ]
  },
  {
   "cell_type": "code",
   "execution_count": 95,
   "metadata": {},
   "outputs": [
    {
     "name": "stdout",
     "output_type": "stream",
     "text": [
      "      Fecha Aceites lubricantes   Asfalto       Bunker  Ceras  \\\n",
      "0  Jan/2001                0.00  27,748.99  214,581.84    0.0   \n",
      "1  Feb/2001                0.00   7,503.57  294,609.00    0.0   \n",
      "2  Mar/2001                0.00  26,304.32  315,263.80    0.0   \n",
      "3  Apr/2001                0.00   7,885.89  205,653.00    0.0   \n",
      "4  May/2001                0.00   8,443.16  278,371.30    0.0   \n",
      "\n",
      "  Combustible turbo jet Diesel bajo azufre Diesel ultra bajo azufre  \\\n",
      "0                  0.00               0.00                     0.00   \n",
      "1                  0.00               0.00                     0.00   \n",
      "2                  0.00               0.00                     0.00   \n",
      "3                  0.00               0.00                     0.00   \n",
      "4                  0.00               0.00                     0.00   \n",
      "\n",
      "  Gas licuado de petróleo Gasolina de aviación  ... Unnamed: 61 Unnamed: 62  \\\n",
      "0              194,065.74               820.00  ...         NaN         NaN   \n",
      "1              170,703.38             3,054.00  ...         NaN         NaN   \n",
      "2              161,837.37               677.00  ...         NaN         NaN   \n",
      "3              163,048.64             3,399.00  ...         NaN         NaN   \n",
      "4              171,518.86               585.00  ...         NaN         NaN   \n",
      "\n",
      "  Unnamed: 63 Unnamed: 64 Unnamed: 65  Unnamed: 66 Unnamed: 67 Unnamed: 68  \\\n",
      "0         NaN         NaN         NaN          NaN         NaN         NaN   \n",
      "1         NaN         NaN         NaN          NaN         NaN         NaN   \n",
      "2         NaN         NaN         NaN          NaN         NaN         NaN   \n",
      "3         NaN         NaN         NaN          NaN         NaN         NaN   \n",
      "4         NaN         NaN         NaN          NaN         NaN         NaN   \n",
      "\n",
      "  Unnamed: 69  Unnamed: 70  \n",
      "0         NaN          NaN  \n",
      "1         NaN          NaN  \n",
      "2         NaN          NaN  \n",
      "3         NaN          NaN  \n",
      "4         NaN          NaN  \n",
      "\n",
      "[5 rows x 71 columns]\n"
     ]
    }
   ],
   "source": [
    "print(importacion2023.head())"
   ]
  },
  {
   "cell_type": "code",
   "execution_count": 96,
   "metadata": {},
   "outputs": [
    {
     "name": "stdout",
     "output_type": "stream",
     "text": [
      "   MES/AÑO  Unnamed: 1   2001  2002   2003   2004   2005   2006   2007   2008  \\\n",
      "0    ENERO         NaN  11.64  9.29  10.90  11.64  15.93  19.82  18.89  26.24   \n",
      "1  FEBRERO         NaN  11.42  9.01  11.86  12.59  15.35  19.28  17.89  26.31   \n",
      "2    MARZO         NaN    NaN   NaN    NaN  12.92  16.25  18.71  18.94  28.04   \n",
      "3    ABRIL         NaN  10.96  9.74  12.63  12.54  18.01  19.63  20.48  30.68   \n",
      "4     MAYO         NaN  11.02  9.80  11.13  12.70  18.50  20.60  21.08  32.57   \n",
      "\n",
      "   ...   2014   2015   2016   2017   2018   2019   2020   2021   2022   2023  \n",
      "0  ...  32.03  19.67  14.47  19.15  21.62  20.73  21.94  19.10  27.41  36.78  \n",
      "1  ...  31.27  20.59  13.80  18.70  21.28  21.94  19.57  20.62  30.20  34.00  \n",
      "2  ...  30.95  20.97  15.57  18.43  20.97  22.71  15.06  22.27  37.05  31.66  \n",
      "3  ...  33.59  20.85  15.90  18.43  22.09  22.79  15.95  21.77  33.90  30.77  \n",
      "4  ...  31.16  22.10  17.00  17.76  23.20  22.83  15.06  22.71  35.79  28.44  \n",
      "\n",
      "[5 rows x 25 columns]\n"
     ]
    }
   ],
   "source": [
    "print(dieselPorMes.head())"
   ]
  },
  {
   "cell_type": "code",
   "execution_count": 97,
   "metadata": {},
   "outputs": [
    {
     "name": "stdout",
     "output_type": "stream",
     "text": [
      "   MES/AÑO  Unnamed: 1   2001   2002   2003   2004   2005   2006   2007  \\\n",
      "0    ENERO         NaN  14.15  12.57  15.37  15.80  18.52  22.15  22.48   \n",
      "1  FEBRERO         NaN    NaN    NaN    NaN  17.08  18.07  21.87  21.52   \n",
      "2    MARZO         NaN  14.13  12.65  17.27  17.71  19.25  21.69  22.61   \n",
      "3    ABRIL         NaN  14.10  14.22  16.50  18.07  21.42  23.99  25.01   \n",
      "4     MAYO         NaN  15.21  14.29  15.43  18.45  21.97  26.37  26.99   \n",
      "\n",
      "    2008  ...   2014   2015   2016   2017   2018   2019   2020   2021   2022  \\\n",
      "0  28.28  ...  33.33  20.28  18.90  23.19  24.77  21.87  24.59  23.01  30.60   \n",
      "1  28.18  ...  32.46  21.75  17.91  22.38  24.69  22.68  23.48  24.74  33.08   \n",
      "2  29.55  ...  32.77  23.49  19.54  21.95  24.70  24.61  22.58  26.89  38.51   \n",
      "3  30.99  ...  33.59  24.07  20.78  22.72  25.99  26.63  17.96  27.22  35.80   \n",
      "4  32.44  ...  33.20  25.38  21.63  22.15  27.23  26.69  17.71  27.98  39.37   \n",
      "\n",
      "    2023  \n",
      "0  33.70  \n",
      "1  33.53  \n",
      "2  32.81  \n",
      "3  34.71  \n",
      "4  33.43  \n",
      "\n",
      "[5 rows x 25 columns]\n"
     ]
    }
   ],
   "source": [
    "print(regularPorMes.head())"
   ]
  },
  {
   "cell_type": "code",
   "execution_count": 98,
   "metadata": {},
   "outputs": [
    {
     "name": "stdout",
     "output_type": "stream",
     "text": [
      "   MES/AÑO  Unnamed: 1   2001   2002   2003   2004  Unnamed: 6   2005   2006  \\\n",
      "0    ENERO         NaN  14.41  12.94  15.80  16.24         NaN  19.09  22.65   \n",
      "1  FEBRERO         NaN  14.66  12.76  16.64  17.49         NaN  18.60  22.35   \n",
      "2    MARZO         NaN  14.49  13.04  17.79  18.11         NaN  19.76  22.16   \n",
      "3    ABRIL         NaN  14.46  14.60  17.01  18.48         NaN  21.94  24.48   \n",
      "4     MAYO         NaN  15.76  14.65  15.92  18.89         NaN  22.48  26.85   \n",
      "\n",
      "    2007  ...   2016   2017   2018   2019   2020   2021   2022   2023  \\\n",
      "0  22.99  ...  20.39  24.69  25.83  23.03  25.60  23.82  31.41  35.12   \n",
      "1  22.04  ...  19.38  23.88  25.78  23.87  24.51  25.53  33.84  35.03   \n",
      "2  23.13  ...  21.02  23.42  25.80  25.80  23.60  27.70  39.12  34.40   \n",
      "3  25.53  ...  22.25  24.20  27.10  27.82  18.97  28.03  38.83  36.33   \n",
      "4  27.59  ...  23.10  23.64  28.29  27.88  18.74  28.80  42.14  34.90   \n",
      "\n",
      "   Unnamed: 26  Unnamed: 27  \n",
      "0          NaN          NaN  \n",
      "1          NaN          NaN  \n",
      "2          NaN          NaN  \n",
      "3          NaN          NaN  \n",
      "4          NaN          NaN  \n",
      "\n",
      "[5 rows x 28 columns]\n"
     ]
    }
   ],
   "source": [
    "print(superPorMes.head())"
   ]
  },
  {
   "cell_type": "code",
   "execution_count": 99,
   "metadata": {},
   "outputs": [
    {
     "name": "stdout",
     "output_type": "stream",
     "text": [
      "   MES/AÑO  Unnamed: 1   2001   2002   2003   2004  Unnamed: 6   2005   2006  \\\n",
      "0    ENERO         NaN  14.92  13.37  16.34  16.80         NaN  19.80  23.31   \n",
      "1  FEBRERO         NaN  15.17  13.23  17.21  18.05         NaN  19.25  22.98   \n",
      "2    MARZO         NaN  14.97  13.63  18.30  18.68         NaN  20.46  22.85   \n",
      "3    ABRIL         NaN  14.91  15.18  17.42  19.16         NaN  22.70  25.36   \n",
      "4     MAYO         NaN  16.26  15.19  16.48  19.48         NaN  23.21  27.68   \n",
      "\n",
      "    2007  ...   2016   2017   2018   2019   2020   2021   2022   2023  \\\n",
      "0  23.62  ...  21.01  25.31  26.47  23.72  26.17  24.34  32.05  35.76   \n",
      "1  22.65  ...  20.03  24.51  26.27  24.54  25.12  26.07  34.55  35.54   \n",
      "2  24.00  ...  21.70  24.03  26.43  26.49  24.15  28.24  39.83  34.95   \n",
      "3  26.35  ...  22.91  24.81  27.74  28.48  19.44  28.54  39.37  36.87   \n",
      "4  28.40  ...  23.75  24.24  28.57  28.54  19.36  29.41  42.68  35.43   \n",
      "\n",
      "   Unnamed: 26  Unnamed: 27  \n",
      "0          NaN          NaN  \n",
      "1          NaN          NaN  \n",
      "2          NaN          NaN  \n",
      "3          NaN          NaN  \n",
      "4          NaN          NaN  \n",
      "\n",
      "[5 rows x 28 columns]\n"
     ]
    }
   ],
   "source": [
    "print(superConAditivo.head())"
   ]
  },
  {
   "cell_type": "code",
   "execution_count": 100,
   "metadata": {},
   "outputs": [
    {
     "name": "stdout",
     "output_type": "stream",
     "text": [
      "\n",
      "Summary Statistics:\n",
      "            Ceras      Naftas      Butano  Unnamed: 23  Unnamed: 24  \\\n",
      "count  280.000000  281.000000  281.000000          0.0          0.0   \n",
      "mean    -1.695929   15.754626   10.289893          NaN          NaN   \n",
      "std    120.930501   57.585737   23.760251          NaN          NaN   \n",
      "min   -841.640000  -22.460000    0.000000          NaN          NaN   \n",
      "25%      0.000000    0.000000    0.000000          NaN          NaN   \n",
      "50%      0.000000    0.000000    0.000000          NaN          NaN   \n",
      "75%      0.000000    0.000000    0.000000          NaN          NaN   \n",
      "max    919.240000  525.040000   89.720000          NaN          NaN   \n",
      "\n",
      "       Unnamed: 25  Unnamed: 26  Unnamed: 27  Unnamed: 28  Unnamed: 29  ...  \\\n",
      "count          0.0          0.0          0.0          0.0          0.0  ...   \n",
      "mean           NaN          NaN          NaN          NaN          NaN  ...   \n",
      "std            NaN          NaN          NaN          NaN          NaN  ...   \n",
      "min            NaN          NaN          NaN          NaN          NaN  ...   \n",
      "25%            NaN          NaN          NaN          NaN          NaN  ...   \n",
      "50%            NaN          NaN          NaN          NaN          NaN  ...   \n",
      "75%            NaN          NaN          NaN          NaN          NaN  ...   \n",
      "max            NaN          NaN          NaN          NaN          NaN  ...   \n",
      "\n",
      "       Unnamed: 46  Unnamed: 47  Unnamed: 48  Unnamed: 49  Unnamed: 50  \\\n",
      "count          0.0          0.0          0.0          0.0          0.0   \n",
      "mean           NaN          NaN          NaN          NaN          NaN   \n",
      "std            NaN          NaN          NaN          NaN          NaN   \n",
      "min            NaN          NaN          NaN          NaN          NaN   \n",
      "25%            NaN          NaN          NaN          NaN          NaN   \n",
      "50%            NaN          NaN          NaN          NaN          NaN   \n",
      "75%            NaN          NaN          NaN          NaN          NaN   \n",
      "max            NaN          NaN          NaN          NaN          NaN   \n",
      "\n",
      "       Unnamed: 51  Unnamed: 52  Unnamed: 53  Unnamed: 54  Unnamed: 55  \n",
      "count          0.0          0.0          0.0          0.0          0.0  \n",
      "mean           NaN          NaN          NaN          NaN          NaN  \n",
      "std            NaN          NaN          NaN          NaN          NaN  \n",
      "min            NaN          NaN          NaN          NaN          NaN  \n",
      "25%            NaN          NaN          NaN          NaN          NaN  \n",
      "50%            NaN          NaN          NaN          NaN          NaN  \n",
      "75%            NaN          NaN          NaN          NaN          NaN  \n",
      "max            NaN          NaN          NaN          NaN          NaN  \n",
      "\n",
      "[8 rows x 36 columns]\n"
     ]
    }
   ],
   "source": [
    "# Summary statistics of numerical columns\n",
    "print(\"\\nSummary Statistics:\")\n",
    "print(consumo2023.describe())"
   ]
  },
  {
   "cell_type": "code",
   "execution_count": 101,
   "metadata": {},
   "outputs": [
    {
     "name": "stdout",
     "output_type": "stream",
     "text": [
      "            Ceras      Naftas      Butano  Unnamed: 25  Unnamed: 26  \\\n",
      "count  268.000000  269.000000  269.000000          0.0          0.0   \n",
      "mean    66.469142   18.012156   11.127658          NaN          NaN   \n",
      "std    169.789987   75.623403   31.826152          NaN          NaN   \n",
      "min      0.000000    0.000000    0.000000          NaN          NaN   \n",
      "25%      0.000000    0.000000    0.000000          NaN          NaN   \n",
      "50%      0.000000    0.000000    0.000000          NaN          NaN   \n",
      "75%      0.000000    0.000000    0.000000          NaN          NaN   \n",
      "max    920.120000  513.830000  149.090000          NaN          NaN   \n",
      "\n",
      "       Unnamed: 27  Unnamed: 28  Unnamed: 29  Unnamed: 30  Unnamed: 31  ...  \\\n",
      "count          0.0          0.0          0.0          0.0          0.0  ...   \n",
      "mean           NaN          NaN          NaN          NaN          NaN  ...   \n",
      "std            NaN          NaN          NaN          NaN          NaN  ...   \n",
      "min            NaN          NaN          NaN          NaN          NaN  ...   \n",
      "25%            NaN          NaN          NaN          NaN          NaN  ...   \n",
      "50%            NaN          NaN          NaN          NaN          NaN  ...   \n",
      "75%            NaN          NaN          NaN          NaN          NaN  ...   \n",
      "max            NaN          NaN          NaN          NaN          NaN  ...   \n",
      "\n",
      "       Unnamed: 61  Unnamed: 62  Unnamed: 63  Unnamed: 64  Unnamed: 65  \\\n",
      "count          0.0          0.0          0.0          0.0          0.0   \n",
      "mean           NaN          NaN          NaN          NaN          NaN   \n",
      "std            NaN          NaN          NaN          NaN          NaN   \n",
      "min            NaN          NaN          NaN          NaN          NaN   \n",
      "25%            NaN          NaN          NaN          NaN          NaN   \n",
      "50%            NaN          NaN          NaN          NaN          NaN   \n",
      "75%            NaN          NaN          NaN          NaN          NaN   \n",
      "max            NaN          NaN          NaN          NaN          NaN   \n",
      "\n",
      "       Unnamed: 66  Unnamed: 67  Unnamed: 68  Unnamed: 69  Unnamed: 70  \n",
      "count          0.0          0.0          0.0          0.0          0.0  \n",
      "mean           NaN          NaN          NaN          NaN          NaN  \n",
      "std            NaN          NaN          NaN          NaN          NaN  \n",
      "min            NaN          NaN          NaN          NaN          NaN  \n",
      "25%            NaN          NaN          NaN          NaN          NaN  \n",
      "50%            NaN          NaN          NaN          NaN          NaN  \n",
      "75%            NaN          NaN          NaN          NaN          NaN  \n",
      "max            NaN          NaN          NaN          NaN          NaN  \n",
      "\n",
      "[8 rows x 49 columns]\n"
     ]
    }
   ],
   "source": [
    "print(importacion2023.describe())"
   ]
  },
  {
   "cell_type": "code",
   "execution_count": 102,
   "metadata": {},
   "outputs": [
    {
     "name": "stdout",
     "output_type": "stream",
     "text": [
      "       Unnamed: 1       2001       2002       2003       2004       2005  \\\n",
      "count         0.0  12.000000  12.000000  12.000000  13.000000  13.000000   \n",
      "mean          NaN  10.778333  10.503333  11.000833  13.681538  18.132308   \n",
      "std           NaN   0.480527   1.936601   0.749842   1.781548   1.808462   \n",
      "min           NaN   9.790000   9.010000   9.910000  11.640000  15.350000   \n",
      "25%           NaN  10.575000   9.737500  10.735000  12.570000  17.250000   \n",
      "50%           NaN  10.740000  10.060000  10.990000  12.920000  18.010000   \n",
      "75%           NaN  10.975000  10.515000  11.167500  13.880000  19.060000   \n",
      "max           NaN  11.640000  16.450000  12.630000  17.150000  21.080000   \n",
      "\n",
      "            2006       2007       2008       2009  ...       2014       2015  \\\n",
      "count  13.000000  13.000000  13.000000  13.000000  ...  13.000000  13.000000   \n",
      "mean   19.987692  21.494615  30.116923  20.492308  ...  29.808462  19.627692   \n",
      "std     0.918941   2.315342   4.727188   1.982247  ...   2.766887   1.662790   \n",
      "min    18.710000  17.890000  21.210000  17.180000  ...  23.100000  16.260000   \n",
      "25%    19.280000  20.480000  26.310000  19.510000  ...  29.530000  18.430000   \n",
      "50%    19.910000  21.530000  30.120000  20.670000  ...  30.930000  19.670000   \n",
      "75%    20.690000  21.830000  32.870000  21.750000  ...  31.160000  20.850000   \n",
      "max    21.560000  26.120000  37.170000  23.500000  ...  33.590000  22.100000   \n",
      "\n",
      "            2016       2017       2018       2019       2020       2021  \\\n",
      "count  13.000000  13.000000  13.000000  13.000000  13.000000  13.000000   \n",
      "mean   16.813846  18.883846  22.686923  21.933077  17.178462  23.395385   \n",
      "std     1.511156   1.139302   1.159076   0.606264   1.908472   2.221575   \n",
      "min    13.800000  17.330000  20.970000  20.730000  15.060000  19.100000   \n",
      "25%    15.900000  18.430000  21.620000  21.800000  16.150000  22.270000   \n",
      "50%    17.000000  18.700000  22.920000  21.920000  16.510000  23.390000   \n",
      "75%    17.980000  19.180000  23.200000  22.060000  17.610000  24.590000   \n",
      "max    18.920000  20.930000  25.040000  22.830000  21.940000  27.070000   \n",
      "\n",
      "            2022       2023  \n",
      "count  13.000000   6.000000  \n",
      "mean   34.500769  32.330000  \n",
      "std     3.482639   2.849772  \n",
      "min    27.410000  28.440000  \n",
      "25%    32.340000  30.992500  \n",
      "50%    34.840000  31.995000  \n",
      "75%    36.170000  33.582500  \n",
      "max    39.930000  36.780000  \n",
      "\n",
      "[8 rows x 24 columns]\n"
     ]
    }
   ],
   "source": [
    "print(dieselPorMes.describe())"
   ]
  },
  {
   "cell_type": "code",
   "execution_count": 103,
   "metadata": {},
   "outputs": [
    {
     "name": "stdout",
     "output_type": "stream",
     "text": [
      "       Unnamed: 1       2001       2002       2003       2004       2005  \\\n",
      "count    2.000000  10.000000  12.000000  12.000000  13.000000  13.000000   \n",
      "mean    13.510000  14.318000  14.510000  16.634167  18.330769  22.067692   \n",
      "std      0.947523   0.558586   1.044884   3.038691   1.041197   2.551996   \n",
      "min     12.840000  13.570000  12.570000  14.580000  15.800000  18.070000   \n",
      "25%     13.175000  14.065000  14.200000  15.280000  18.070000  21.420000   \n",
      "50%     13.510000  14.115000  14.515000  15.970000  18.450000  21.970000   \n",
      "75%     13.845000  14.562500  15.332500  16.532500  18.780000  22.800000   \n",
      "max     14.180000  15.270000  15.690000  25.920000  19.820000  26.720000   \n",
      "\n",
      "            2006       2007       2008       2009  ...       2014       2015  \\\n",
      "count  13.000000  13.000000  13.000000  13.000000  ...  13.000000  13.000000   \n",
      "mean   24.365385  25.815385  30.582308  23.506154  ...  31.632308  22.763846   \n",
      "std     2.062614   2.258110   4.068620   2.497928  ...   2.775590   2.087680   \n",
      "min    21.690000  21.520000  21.810000  20.180000  ...  24.410000  19.540000   \n",
      "25%    22.640000  25.010000  28.280000  20.680000  ...  31.610000  21.370000   \n",
      "50%    24.250000  26.410000  30.580000  23.510000  ...  32.540000  22.760000   \n",
      "75%    26.260000  27.300000  34.200000  25.620000  ...  33.330000  24.070000   \n",
      "max    27.620000  28.250000  35.770000  26.760000  ...  34.110000  25.670000   \n",
      "\n",
      "            2016       2017       2018       2019       2020       2021  \\\n",
      "count  13.000000  13.000000  13.000000  13.000000  13.000000  13.000000   \n",
      "mean   20.793846  22.816154  25.790769  24.707692  21.235385  27.932308   \n",
      "std     1.283488   0.848740   1.412306   1.349328   1.912497   2.151407   \n",
      "min    17.910000  21.760000  22.620000  21.870000  17.710000  23.010000   \n",
      "25%    20.780000  22.150000  24.700000  24.440000  20.400000  27.220000   \n",
      "50%    21.040000  22.720000  25.990000  24.660000  21.400000  27.980000   \n",
      "75%    21.630000  23.190000  26.850000  25.250000  21.940000  29.090000   \n",
      "max    22.190000  24.110000  27.360000  26.690000  24.590000  30.820000   \n",
      "\n",
      "           2022       2023  \n",
      "count  13.00000   6.000000  \n",
      "mean   35.65000  33.636667  \n",
      "std     2.64381   0.615391  \n",
      "min    30.60000  32.810000  \n",
      "25%    34.28000  33.455000  \n",
      "50%    35.65000  33.585000  \n",
      "75%    36.40000  33.685000  \n",
      "max    40.16000  34.710000  \n",
      "\n",
      "[8 rows x 24 columns]\n"
     ]
    }
   ],
   "source": [
    "print(regularPorMes.describe())"
   ]
  },
  {
   "cell_type": "code",
   "execution_count": 104,
   "metadata": {},
   "outputs": [
    {
     "name": "stdout",
     "output_type": "stream",
     "text": [
      "       Unnamed: 1       2001       2002       2003       2004  Unnamed: 6  \\\n",
      "count         0.0  13.000000  13.000000  13.000000  13.000000         0.0   \n",
      "mean          NaN  14.596923  14.722308  16.203846  18.781538         NaN   \n",
      "std           NaN   0.673293   1.178439   0.773149   1.060683         NaN   \n",
      "min           NaN  13.210000  12.760000  15.070000  16.240000         NaN   \n",
      "25%           NaN  14.410000  14.490000  15.800000  18.480000         NaN   \n",
      "50%           NaN  14.490000  14.720000  16.200000  18.910000         NaN   \n",
      "75%           NaN  14.660000  15.680000  16.640000  19.240000         NaN   \n",
      "max           NaN  15.760000  16.120000  17.790000  20.310000         NaN   \n",
      "\n",
      "            2005       2006       2007       2008  ...       2016       2017  \\\n",
      "count  13.000000  13.000000  13.000000  13.000000  ...  13.000000  13.000000   \n",
      "mean   22.578462  24.859231  26.505385  31.260000  ...  22.276154  24.190000   \n",
      "std     2.539150   2.071253   2.358494   4.038168  ...   1.284935   0.755679   \n",
      "min    18.600000  22.160000  22.040000  22.550000  ...  19.380000  23.150000   \n",
      "25%    21.940000  23.150000  25.530000  28.890000  ...  22.250000  23.640000   \n",
      "50%    22.480000  24.730000  27.340000  31.290000  ...  22.530000  24.190000   \n",
      "75%    23.290000  26.770000  28.240000  34.830000  ...  23.100000  24.690000   \n",
      "max    27.220000  28.120000  29.040000  36.420000  ...  23.660000  25.370000   \n",
      "\n",
      "            2018       2019       2020       2021       2022       2023  \\\n",
      "count  13.000000  13.000000  13.000000  13.000000  13.000000   6.000000   \n",
      "mean   26.916923  25.869231  22.149231  28.726923  36.966154  35.155000   \n",
      "std     1.406493   1.362378   1.913346   2.129782   2.932733   0.637581   \n",
      "min    23.810000  23.030000  18.740000  23.820000  31.410000  34.400000   \n",
      "25%    25.830000  25.540000  21.210000  28.030000  35.210000  34.932500   \n",
      "50%    27.100000  25.850000  22.300000  28.850000  36.970000  35.075000   \n",
      "75%    27.950000  26.440000  22.760000  29.910000  38.830000  35.142500   \n",
      "max    28.540000  27.880000  25.600000  31.550000  42.140000  36.330000   \n",
      "\n",
      "       Unnamed: 26  Unnamed: 27  \n",
      "count          0.0          0.0  \n",
      "mean           NaN          NaN  \n",
      "std            NaN          NaN  \n",
      "min            NaN          NaN  \n",
      "25%            NaN          NaN  \n",
      "50%            NaN          NaN  \n",
      "75%            NaN          NaN  \n",
      "max            NaN          NaN  \n",
      "\n",
      "[8 rows x 27 columns]\n"
     ]
    }
   ],
   "source": [
    "print(superPorMes.describe())"
   ]
  },
  {
   "cell_type": "code",
   "execution_count": 105,
   "metadata": {},
   "outputs": [
    {
     "name": "stdout",
     "output_type": "stream",
     "text": [
      "       Unnamed: 1       2001       2002       2003       2004  Unnamed: 6  \\\n",
      "count    2.000000  11.000000  13.000000  13.000000  13.000000         0.0   \n",
      "mean    14.315000  15.194545  15.301538  16.750000  19.416923         NaN   \n",
      "std      1.053589   0.600506   1.228996   0.774672   1.104192         NaN   \n",
      "min     13.570000  14.430000  13.230000  15.580000  16.800000         NaN   \n",
      "25%     13.942500  14.915000  15.050000  16.340000  19.160000         NaN   \n",
      "50%     14.315000  14.950000  15.300000  16.750000  19.510000         NaN   \n",
      "75%     14.687500  15.350000  16.310000  17.210000  19.900000         NaN   \n",
      "max     15.060000  16.310000  16.750000  18.300000  21.030000         NaN   \n",
      "\n",
      "            2005       2006       2007       2008  ...       2016       2017  \\\n",
      "count  13.000000  13.000000  13.000000  13.000000  ...  13.000000  13.000000   \n",
      "mean   23.272308  25.547692  27.253846  32.172308  ...  22.926154  24.813077   \n",
      "std     2.506569   2.067173   2.388834   3.966243  ...   1.286795   0.753596   \n",
      "min    19.250000  22.850000  22.650000  23.800000  ...  20.030000  23.800000   \n",
      "25%    22.700000  23.830000  26.350000  29.550000  ...  22.910000  24.240000   \n",
      "50%    23.210000  25.430000  28.120000  32.450000  ...  23.160000  24.810000   \n",
      "75%    23.930000  27.440000  29.150000  35.870000  ...  23.750000  25.310000   \n",
      "max    27.830000  28.830000  29.790000  37.250000  ...  24.310000  25.980000   \n",
      "\n",
      "            2018       2019       2020       2021       2022       2023  \\\n",
      "count  13.000000  13.000000  13.000000  13.000000  13.000000   6.000000   \n",
      "mean   27.513077  26.430769  22.692308  29.363077  37.520769  35.710000   \n",
      "std     1.386947   1.402584   1.929565   2.253828   2.924977   0.637652   \n",
      "min    24.500000  23.720000  19.360000  24.340000  32.050000  34.950000   \n",
      "25%    26.440000  25.960000  21.760000  28.540000  35.770000  35.457500   \n",
      "50%    27.740000  26.490000  22.760000  29.410000  37.520000  35.625000   \n",
      "75%    28.600000  27.090000  23.410000  30.490000  39.370000  35.747500   \n",
      "max    29.140000  28.540000  26.170000  32.600000  42.680000  36.870000   \n",
      "\n",
      "       Unnamed: 26  Unnamed: 27  \n",
      "count          0.0          0.0  \n",
      "mean           NaN          NaN  \n",
      "std            NaN          NaN  \n",
      "min            NaN          NaN  \n",
      "25%            NaN          NaN  \n",
      "50%            NaN          NaN  \n",
      "75%            NaN          NaN  \n",
      "max            NaN          NaN  \n",
      "\n",
      "[8 rows x 27 columns]\n"
     ]
    }
   ],
   "source": [
    "print(superConAditivo.describe())"
   ]
  },
  {
   "cell_type": "code",
   "execution_count": 106,
   "metadata": {},
   "outputs": [
    {
     "name": "stdout",
     "output_type": "stream",
     "text": [
      "\n",
      "Missing Values:\n",
      "Fecha                         0\n",
      "Aceites lubricantes           0\n",
      "Asfalto                       0\n",
      "Bunker                        0\n",
      "Ceras                         1\n",
      "Combustible turbo jet         0\n",
      "Diesel bajo azufre            0\n",
      "Diesel ultra bajo azufre      0\n",
      "Gas licuado de petróleo       0\n",
      "Gasolina de aviación          0\n",
      "Gasolina regular              0\n",
      "Gasolina superior             0\n",
      "Grasas lubricantes            0\n",
      "Kerosina                      0\n",
      "Mezclas\\r\\noleosas            0\n",
      "Naftas                        0\n",
      "PetCoke                       0\n",
      "Petróleo crudo                0\n",
      "Solventes                     0\n",
      "Butano                        0\n",
      "Diesel alto azufre            0\n",
      "Orimulsión                    0\n",
      "Total                         0\n",
      "Unnamed: 23                 281\n",
      "Unnamed: 24                 281\n",
      "Unnamed: 25                 281\n",
      "Unnamed: 26                 281\n",
      "Unnamed: 27                 281\n",
      "Unnamed: 28                 281\n",
      "Unnamed: 29                 281\n",
      "Unnamed: 30                 281\n",
      "Unnamed: 31                 281\n",
      "Unnamed: 32                 281\n",
      "Unnamed: 33                 281\n",
      "Unnamed: 34                 281\n",
      "Unnamed: 35                 281\n",
      "Unnamed: 36                 281\n",
      "Unnamed: 37                 281\n",
      "Unnamed: 38                 281\n",
      "Unnamed: 39                 281\n",
      "Unnamed: 40                 281\n",
      "Unnamed: 41                 281\n",
      "Unnamed: 42                 281\n",
      "Unnamed: 43                 281\n",
      "Unnamed: 44                 281\n",
      "Unnamed: 45                 281\n",
      "Unnamed: 46                 281\n",
      "Unnamed: 47                 281\n",
      "Unnamed: 48                 281\n",
      "Unnamed: 49                 281\n",
      "Unnamed: 50                 281\n",
      "Unnamed: 51                 281\n",
      "Unnamed: 52                 281\n",
      "Unnamed: 53                 281\n",
      "Unnamed: 54                 281\n",
      "Unnamed: 55                 281\n",
      "dtype: int64\n"
     ]
    }
   ],
   "source": [
    "# Check for missing values\n",
    "print(\"\\nMissing Values:\")\n",
    "print(consumo2023.isnull().sum())"
   ]
  },
  {
   "cell_type": "code",
   "execution_count": 107,
   "metadata": {},
   "outputs": [
    {
     "name": "stdout",
     "output_type": "stream",
     "text": [
      "Fecha                    1\n",
      "Aceites lubricantes      2\n",
      "Asfalto                  2\n",
      "Bunker                   2\n",
      "Ceras                    3\n",
      "                      ... \n",
      "Unnamed: 66            271\n",
      "Unnamed: 67            271\n",
      "Unnamed: 68            271\n",
      "Unnamed: 69            271\n",
      "Unnamed: 70            271\n",
      "Length: 71, dtype: int64\n"
     ]
    }
   ],
   "source": [
    "print(importacion2023.isnull().sum())"
   ]
  },
  {
   "cell_type": "code",
   "execution_count": 108,
   "metadata": {},
   "outputs": [
    {
     "name": "stdout",
     "output_type": "stream",
     "text": [
      "MES/AÑO        0\n",
      "Unnamed: 1    13\n",
      "2001           1\n",
      "2002           1\n",
      "2003           1\n",
      "2004           0\n",
      "2005           0\n",
      "2006           0\n",
      "2007           0\n",
      "2008           0\n",
      "2009           0\n",
      "2010           0\n",
      "2011           0\n",
      "2012           0\n",
      "2013           0\n",
      "2014           0\n",
      "2015           0\n",
      "2016           0\n",
      "2017           0\n",
      "2018           0\n",
      "2019           0\n",
      "2020           0\n",
      "2021           0\n",
      "2022           0\n",
      "2023           7\n",
      "dtype: int64\n"
     ]
    }
   ],
   "source": [
    "print(dieselPorMes.isnull().sum())"
   ]
  },
  {
   "cell_type": "code",
   "execution_count": 109,
   "metadata": {},
   "outputs": [
    {
     "name": "stdout",
     "output_type": "stream",
     "text": [
      "MES/AÑO        0\n",
      "Unnamed: 1    11\n",
      "2001           3\n",
      "2002           1\n",
      "2003           1\n",
      "2004           0\n",
      "2005           0\n",
      "2006           0\n",
      "2007           0\n",
      "2008           0\n",
      "2009           0\n",
      "2010           0\n",
      "2011           0\n",
      "2012           0\n",
      "2013           0\n",
      "2014           0\n",
      "2015           0\n",
      "2016           0\n",
      "2017           0\n",
      "2018           0\n",
      "2019           0\n",
      "2020           0\n",
      "2021           0\n",
      "2022           0\n",
      "2023           7\n",
      "dtype: int64\n"
     ]
    }
   ],
   "source": [
    "print(regularPorMes.isnull().sum())"
   ]
  },
  {
   "cell_type": "code",
   "execution_count": 110,
   "metadata": {},
   "outputs": [
    {
     "name": "stdout",
     "output_type": "stream",
     "text": [
      "MES/AÑO         0\n",
      "Unnamed: 1     13\n",
      "2001            0\n",
      "2002            0\n",
      "2003            0\n",
      "2004            0\n",
      "Unnamed: 6     13\n",
      "2005            0\n",
      "2006            0\n",
      "2007            0\n",
      "2008            0\n",
      "2009            0\n",
      "2010            0\n",
      "2011            0\n",
      "2012            0\n",
      "2013            0\n",
      "2014            0\n",
      "2015            0\n",
      "2016            0\n",
      "2017            0\n",
      "2018            0\n",
      "2019            0\n",
      "2020            0\n",
      "2021            0\n",
      "2022            0\n",
      "2023            7\n",
      "Unnamed: 26    13\n",
      "Unnamed: 27    13\n",
      "dtype: int64\n"
     ]
    }
   ],
   "source": [
    "print(superPorMes.isnull().sum())"
   ]
  },
  {
   "cell_type": "code",
   "execution_count": 111,
   "metadata": {},
   "outputs": [
    {
     "name": "stdout",
     "output_type": "stream",
     "text": [
      "MES/AÑO         0\n",
      "Unnamed: 1     11\n",
      "2001            2\n",
      "2002            0\n",
      "2003            0\n",
      "2004            0\n",
      "Unnamed: 6     13\n",
      "2005            0\n",
      "2006            0\n",
      "2007            0\n",
      "2008            0\n",
      "2009            0\n",
      "2010            0\n",
      "2011            0\n",
      "2012            0\n",
      "2013            0\n",
      "2014            0\n",
      "2015            0\n",
      "2016            0\n",
      "2017            0\n",
      "2018            0\n",
      "2019            0\n",
      "2020            0\n",
      "2021            0\n",
      "2022            0\n",
      "2023            7\n",
      "Unnamed: 26    13\n",
      "Unnamed: 27    13\n",
      "dtype: int64\n"
     ]
    }
   ],
   "source": [
    "print(superConAditivo.isnull().sum())"
   ]
  },
  {
   "cell_type": "code",
   "execution_count": 112,
   "metadata": {},
   "outputs": [
    {
     "ename": "NameError",
     "evalue": "name 'data' is not defined",
     "output_type": "error",
     "traceback": [
      "\u001b[1;31m---------------------------------------------------------------------------\u001b[0m",
      "\u001b[1;31mNameError\u001b[0m                                 Traceback (most recent call last)",
      "Cell \u001b[1;32mIn[112], line 5\u001b[0m\n\u001b[0;32m      2\u001b[0m plt\u001b[39m.\u001b[39mfigure(figsize\u001b[39m=\u001b[39m(\u001b[39m10\u001b[39m, \u001b[39m6\u001b[39m))\n\u001b[0;32m      4\u001b[0m \u001b[39m# Gráfico de dispersión entre importaciones y consumo\u001b[39;00m\n\u001b[1;32m----> 5\u001b[0m plt\u001b[39m.\u001b[39mscatter(data[\u001b[39m'\u001b[39m\u001b[39mImportaciones\u001b[39m\u001b[39m'\u001b[39m], data[\u001b[39m'\u001b[39m\u001b[39mConsumo\u001b[39m\u001b[39m'\u001b[39m])\n\u001b[0;32m      6\u001b[0m plt\u001b[39m.\u001b[39mxlabel(\u001b[39m'\u001b[39m\u001b[39mImportaciones\u001b[39m\u001b[39m'\u001b[39m)\n\u001b[0;32m      7\u001b[0m plt\u001b[39m.\u001b[39mylabel(\u001b[39m'\u001b[39m\u001b[39mConsumo\u001b[39m\u001b[39m'\u001b[39m)\n",
      "\u001b[1;31mNameError\u001b[0m: name 'data' is not defined"
     ]
    },
    {
     "data": {
      "text/plain": [
       "<Figure size 1000x600 with 0 Axes>"
      ]
     },
     "metadata": {},
     "output_type": "display_data"
    }
   ],
   "source": [
    "# Realizar gráficos exploratorios\n",
    "plt.figure(figsize=(10, 6))\n",
    "\n",
    "# Gráfico de dispersión entre importaciones y consumo\n",
    "plt.scatter(data['Importaciones'], data['Consumo'])\n",
    "plt.xlabel('Importaciones')\n",
    "plt.ylabel('Consumo')\n",
    "plt.title('Relación entre Importaciones y Consumo')\n",
    "\n",
    "plt.show()\n",
    "\n",
    "# Cargar los datos desde un archivo CSV (por ejemplo, con fechas en la primera columna)\n",
    "data = pd.read_csv('datos_series_tiempo.csv', parse_dates=[0], index_col=0)\n",
    "\n",
    "# Graficar series de tiempo\n",
    "plt.figure(figsize=(12, 6))\n",
    "\n",
    "# Serie de tiempo para Importaciones de Diésel\n",
    "plt.plot(data.index, data['Importaciones_Diesel'], label='Importaciones de Diésel')\n",
    "plt.xlabel('Fecha')\n",
    "plt.ylabel('Importaciones')\n",
    "plt.title('Serie de Tiempo de Importaciones de Diésel')\n",
    "plt.legend()\n",
    "\n",
    "plt.show()\n",
    "\n",
    "# Cargar los datos desde un archivo CSV (por ejemplo, con fechas en la primera columna)\n",
    "data = pd.read_csv('datos_series_tiempo.csv', parse_dates=[0], index_col=0)\n",
    "\n",
    "# Graficar series de tiempo con enfoque en la pandemia\n",
    "plt.figure(figsize=(12, 6))\n",
    "\n",
    "# Serie de tiempo para Consumo de Gasolina Superior durante la pandemia\n",
    "plt.plot(data.index, data['Consumo_Gasolina_Superior'], label='Consumo de Gasolina Superior')\n",
    "plt.axvspan('2020-03-01', '2021-06-30', color='red', alpha=0.2, label='Pandemia')\n",
    "plt.xlabel('Fecha')\n",
    "plt.ylabel('Consumo')\n",
    "plt.title('Serie de Tiempo de Consumo de Gasolina Superior')\n",
    "plt.legend()\n",
    "\n",
    "plt.show()"
   ]
  },
  {
   "cell_type": "code",
   "execution_count": null,
   "metadata": {},
   "outputs": [],
   "source": []
  }
 ],
 "metadata": {
  "kernelspec": {
   "display_name": "Python 3 (ipykernel)",
   "language": "python",
   "name": "python3"
  },
  "language_info": {
   "codemirror_mode": {
    "name": "ipython",
    "version": 3
   },
   "file_extension": ".py",
   "mimetype": "text/x-python",
   "name": "python",
   "nbconvert_exporter": "python",
   "pygments_lexer": "ipython3",
   "version": "3.11.4"
  }
 },
 "nbformat": 4,
 "nbformat_minor": 4
}
