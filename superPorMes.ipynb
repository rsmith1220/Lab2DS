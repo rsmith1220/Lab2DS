{
 "cells": [
  {
   "cell_type": "code",
   "execution_count": 36,
   "metadata": {},
   "outputs": [],
   "source": [
    "import pandas as pd\n",
    "import numpy as np\n",
    "import matplotlib.pyplot as plt\n",
    "import seaborn as sns"
   ]
  },
  {
   "cell_type": "code",
   "execution_count": 37,
   "metadata": {},
   "outputs": [],
   "source": [
    "data_url = \"data/superconaditivo.csv\"\n",
    "data = pd.read_csv(data_url)"
   ]
  },
  {
   "cell_type": "code",
   "execution_count": 38,
   "metadata": {},
   "outputs": [
    {
     "name": "stdout",
     "output_type": "stream",
     "text": [
      "Dataset Summary:\n",
      "<class 'pandas.core.frame.DataFrame'>\n",
      "RangeIndex: 13 entries, 0 to 12\n",
      "Data columns (total 28 columns):\n",
      " #   Column       Non-Null Count  Dtype  \n",
      "---  ------       --------------  -----  \n",
      " 0   MES/AÑO      13 non-null     object \n",
      " 1   Unnamed: 1   2 non-null      float64\n",
      " 2   2001         11 non-null     float64\n",
      " 3   2002         13 non-null     float64\n",
      " 4   2003         13 non-null     float64\n",
      " 5   2004         13 non-null     float64\n",
      " 6   Unnamed: 6   0 non-null      float64\n",
      " 7   2005         13 non-null     float64\n",
      " 8   2006         13 non-null     float64\n",
      " 9   2007         13 non-null     float64\n",
      " 10  2008         13 non-null     float64\n",
      " 11  2009         13 non-null     float64\n",
      " 12  2010         13 non-null     float64\n",
      " 13  2011         13 non-null     float64\n",
      " 14  2012         13 non-null     float64\n",
      " 15  2013         13 non-null     float64\n",
      " 16  2014         13 non-null     float64\n",
      " 17  2015         13 non-null     float64\n",
      " 18  2016         13 non-null     float64\n",
      " 19  2017         13 non-null     float64\n",
      " 20  2018         13 non-null     float64\n",
      " 21  2019         13 non-null     float64\n",
      " 22  2020         13 non-null     float64\n",
      " 23  2021         13 non-null     float64\n",
      " 24  2022         13 non-null     float64\n",
      " 25  2023         6 non-null      float64\n",
      " 26  Unnamed: 26  0 non-null      float64\n",
      " 27  Unnamed: 27  0 non-null      float64\n",
      "dtypes: float64(27), object(1)\n",
      "memory usage: 3.0+ KB\n",
      "None\n"
     ]
    }
   ],
   "source": [
    "# Display basic information about the dataset\n",
    "print(\"Dataset Summary:\")\n",
    "print(data.info())"
   ]
  },
  {
   "cell_type": "code",
   "execution_count": 39,
   "metadata": {},
   "outputs": [
    {
     "name": "stdout",
     "output_type": "stream",
     "text": [
      "\n",
      "First 5 rows of the dataset:\n",
      "   MES/AÑO  Unnamed: 1   2001   2002   2003   2004  Unnamed: 6   2005   2006  \\\n",
      "0    ENERO         NaN  14.92  13.37  16.34  16.80         NaN  19.80  23.31   \n",
      "1  FEBRERO         NaN  15.17  13.23  17.21  18.05         NaN  19.25  22.98   \n",
      "2    MARZO         NaN  14.97  13.63  18.30  18.68         NaN  20.46  22.85   \n",
      "3    ABRIL         NaN  14.91  15.18  17.42  19.16         NaN  22.70  25.36   \n",
      "4     MAYO         NaN  16.26  15.19  16.48  19.48         NaN  23.21  27.68   \n",
      "\n",
      "    2007  ...   2016   2017   2018   2019   2020   2021   2022   2023  \\\n",
      "0  23.62  ...  21.01  25.31  26.47  23.72  26.17  24.34  32.05  35.76   \n",
      "1  22.65  ...  20.03  24.51  26.27  24.54  25.12  26.07  34.55  35.54   \n",
      "2  24.00  ...  21.70  24.03  26.43  26.49  24.15  28.24  39.83  34.95   \n",
      "3  26.35  ...  22.91  24.81  27.74  28.48  19.44  28.54  39.37  36.87   \n",
      "4  28.40  ...  23.75  24.24  28.57  28.54  19.36  29.41  42.68  35.43   \n",
      "\n",
      "   Unnamed: 26  Unnamed: 27  \n",
      "0          NaN          NaN  \n",
      "1          NaN          NaN  \n",
      "2          NaN          NaN  \n",
      "3          NaN          NaN  \n",
      "4          NaN          NaN  \n",
      "\n",
      "[5 rows x 28 columns]\n"
     ]
    }
   ],
   "source": [
    "# Display the first few rows of the dataset\n",
    "print(\"\\nFirst 5 rows of the dataset:\")\n",
    "print(data.head())"
   ]
  },
  {
   "cell_type": "code",
   "execution_count": 40,
   "metadata": {},
   "outputs": [
    {
     "name": "stdout",
     "output_type": "stream",
     "text": [
      "\n",
      "Summary Statistics:\n",
      "       Unnamed: 1       2001       2002       2003       2004  Unnamed: 6  \\\n",
      "count    2.000000  11.000000  13.000000  13.000000  13.000000         0.0   \n",
      "mean    14.315000  15.194545  15.301538  16.750000  19.416923         NaN   \n",
      "std      1.053589   0.600506   1.228996   0.774672   1.104192         NaN   \n",
      "min     13.570000  14.430000  13.230000  15.580000  16.800000         NaN   \n",
      "25%     13.942500  14.915000  15.050000  16.340000  19.160000         NaN   \n",
      "50%     14.315000  14.950000  15.300000  16.750000  19.510000         NaN   \n",
      "75%     14.687500  15.350000  16.310000  17.210000  19.900000         NaN   \n",
      "max     15.060000  16.310000  16.750000  18.300000  21.030000         NaN   \n",
      "\n",
      "            2005       2006       2007       2008  ...       2016       2017  \\\n",
      "count  13.000000  13.000000  13.000000  13.000000  ...  13.000000  13.000000   \n",
      "mean   23.272308  25.547692  27.253846  32.172308  ...  22.926154  24.813077   \n",
      "std     2.506569   2.067173   2.388834   3.966243  ...   1.286795   0.753596   \n",
      "min    19.250000  22.850000  22.650000  23.800000  ...  20.030000  23.800000   \n",
      "25%    22.700000  23.830000  26.350000  29.550000  ...  22.910000  24.240000   \n",
      "50%    23.210000  25.430000  28.120000  32.450000  ...  23.160000  24.810000   \n",
      "75%    23.930000  27.440000  29.150000  35.870000  ...  23.750000  25.310000   \n",
      "max    27.830000  28.830000  29.790000  37.250000  ...  24.310000  25.980000   \n",
      "\n",
      "            2018       2019       2020       2021       2022       2023  \\\n",
      "count  13.000000  13.000000  13.000000  13.000000  13.000000   6.000000   \n",
      "mean   27.513077  26.430769  22.692308  29.363077  37.520769  35.710000   \n",
      "std     1.386947   1.402584   1.929565   2.253828   2.924977   0.637652   \n",
      "min    24.500000  23.720000  19.360000  24.340000  32.050000  34.950000   \n",
      "25%    26.440000  25.960000  21.760000  28.540000  35.770000  35.457500   \n",
      "50%    27.740000  26.490000  22.760000  29.410000  37.520000  35.625000   \n",
      "75%    28.600000  27.090000  23.410000  30.490000  39.370000  35.747500   \n",
      "max    29.140000  28.540000  26.170000  32.600000  42.680000  36.870000   \n",
      "\n",
      "       Unnamed: 26  Unnamed: 27  \n",
      "count          0.0          0.0  \n",
      "mean           NaN          NaN  \n",
      "std            NaN          NaN  \n",
      "min            NaN          NaN  \n",
      "25%            NaN          NaN  \n",
      "50%            NaN          NaN  \n",
      "75%            NaN          NaN  \n",
      "max            NaN          NaN  \n",
      "\n",
      "[8 rows x 27 columns]\n"
     ]
    }
   ],
   "source": [
    "# Summary statistics of numerical columns\n",
    "print(\"\\nSummary Statistics:\")\n",
    "print(data.describe())"
   ]
  },
  {
   "cell_type": "code",
   "execution_count": 41,
   "metadata": {},
   "outputs": [
    {
     "name": "stdout",
     "output_type": "stream",
     "text": [
      "\n",
      "Missing Values:\n",
      "MES/AÑO         0\n",
      "Unnamed: 1     11\n",
      "2001            2\n",
      "2002            0\n",
      "2003            0\n",
      "2004            0\n",
      "Unnamed: 6     13\n",
      "2005            0\n",
      "2006            0\n",
      "2007            0\n",
      "2008            0\n",
      "2009            0\n",
      "2010            0\n",
      "2011            0\n",
      "2012            0\n",
      "2013            0\n",
      "2014            0\n",
      "2015            0\n",
      "2016            0\n",
      "2017            0\n",
      "2018            0\n",
      "2019            0\n",
      "2020            0\n",
      "2021            0\n",
      "2022            0\n",
      "2023            7\n",
      "Unnamed: 26    13\n",
      "Unnamed: 27    13\n",
      "dtype: int64\n"
     ]
    }
   ],
   "source": [
    "# Check for missing values\n",
    "print(\"\\nMissing Values:\")\n",
    "print(data.isnull().sum())"
   ]
  },
  {
   "cell_type": "code",
   "execution_count": 42,
   "metadata": {},
   "outputs": [],
   "source": [
    "# Create a list of columns to drop\n",
    "columns_to_drop = [\"Unnamed: 1\", \"Unnamed: 6\", \"Unnamed: 26\", \"Unnamed: 27\"]\n",
    "\n",
    "# Drop the columns from the DataFrame\n",
    "data_cleaned = data.drop(columns=columns_to_drop)"
   ]
  },
  {
   "cell_type": "code",
   "execution_count": 43,
   "metadata": {},
   "outputs": [
    {
     "name": "stdout",
     "output_type": "stream",
     "text": [
      "\n",
      "Missing Values:\n",
      "MES/AÑO         0\n",
      "Unnamed: 1     11\n",
      "2001            2\n",
      "2002            0\n",
      "2003            0\n",
      "2004            0\n",
      "Unnamed: 6     13\n",
      "2005            0\n",
      "2006            0\n",
      "2007            0\n",
      "2008            0\n",
      "2009            0\n",
      "2010            0\n",
      "2011            0\n",
      "2012            0\n",
      "2013            0\n",
      "2014            0\n",
      "2015            0\n",
      "2016            0\n",
      "2017            0\n",
      "2018            0\n",
      "2019            0\n",
      "2020            0\n",
      "2021            0\n",
      "2022            0\n",
      "2023            7\n",
      "Unnamed: 26    13\n",
      "Unnamed: 27    13\n",
      "dtype: int64\n"
     ]
    }
   ],
   "source": [
    "# Check for missing values\n",
    "print(\"\\nMissing Values:\")\n",
    "print(data.isnull().sum())"
   ]
  }
 ],
 "metadata": {
  "kernelspec": {
   "display_name": "Python 3 (ipykernel)",
   "language": "python",
   "name": "python3"
  },
  "language_info": {
   "codemirror_mode": {
    "name": "ipython",
    "version": 3
   },
   "file_extension": ".py",
   "mimetype": "text/x-python",
   "name": "python",
   "nbconvert_exporter": "python",
   "pygments_lexer": "ipython3",
   "version": "3.11.4"
  }
 },
 "nbformat": 4,
 "nbformat_minor": 4
}
